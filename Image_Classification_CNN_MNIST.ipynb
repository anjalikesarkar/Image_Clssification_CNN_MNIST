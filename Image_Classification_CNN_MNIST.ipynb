{
 "cells": [
  {
   "cell_type": "code",
   "execution_count": 5,
   "id": "22505ffc-b47e-48ba-bd21-c7ac17ba352d",
   "metadata": {},
   "outputs": [],
   "source": [
    "import torch\n",
    "from torch.optim import Adam\n",
    "import torch.nn as nn\n",
    "import torchvision \n",
    "from PIL import Image"
   ]
  },
  {
   "cell_type": "code",
   "execution_count": null,
   "id": "b8f4f18c-beff-4d3e-8fe2-953d07fdd32b",
   "metadata": {},
   "outputs": [],
   "source": [
    "# (1)DEFINE MODEL STEPS IN ALGORITHM in INIT and SUPER\n",
    "# (2)DEFINE ACTUAL MODEL PASS in FORWARD\n",
    "# (3)SEND MODEL TO DEVICE\n",
    "# (4)DEFINE LOSS and OPTIMIZATION \n",
    "# (5)LOOP training data \n",
    "# (6)Image Classifier Neural Network \n",
    "#  loop for each image (X) and label(y) in dataset \n",
    "#  i)img =as it takes last layer o/p as i/p here reshape to the o/p to batch size, actual size and send to device\n",
    "#  ii)label (yhat) =each label send to the device\n",
    "#  ``````````for FORWARD FLOW```````````\n",
    "#  iii)output =now send img in model to train\n",
    "#  iv) calculate loss by yhat - y\n",
    "#  `````````for BACKWARD FLOW```````````` \n",
    "#  v) set optimizer to zero_grad \n",
    "#  vi) loss call\n",
    "#  vii) optimizer call"
   ]
  },
  {
   "cell_type": "code",
   "execution_count": 13,
   "id": "95a898fe-4995-4c0a-a737-050f1a964ac9",
   "metadata": {},
   "outputs": [
    {
     "name": "stdout",
     "output_type": "stream",
     "text": [
      "Epoch [1/2],Loss: 0.1438\n",
      "Epoch [1/2],Loss: 0.0757\n",
      "Epoch [1/2],Loss: 0.0607\n",
      "Epoch [1/2],Loss: 0.0532\n",
      "Epoch [1/2],Loss: 0.0798\n",
      "Epoch [1/2],Loss: 0.1042\n",
      "Epoch [2/2],Loss: 0.0513\n",
      "Epoch [2/2],Loss: 0.0375\n",
      "Epoch [2/2],Loss: 0.0602\n",
      "Epoch [2/2],Loss: 0.0675\n",
      "Epoch [2/2],Loss: 0.0554\n",
      "Epoch [2/2],Loss: 0.0304\n"
     ]
    }
   ],
   "source": [
    "#HyPERLINK DECLARATIONS\n",
    "batch_size = 100\n",
    "num_epochs = 2\n",
    "\n",
    "#GETTING DATA\n",
    "train_data = torchvision.datasets.MNIST(root=\"../data\",train=True,transform = torchvision.transforms.ToTensor())\n",
    "test_data = torchvision.datasets.MNIST(root=\"../data\",train=False,transform = torchvision.transforms.ToTensor())\n",
    "\n",
    "#DATA LOADING\n",
    "train_load = torch.utils.data.DataLoader(train_data,shuffle=True,batch_size=batch_size)\n",
    "test_load = torch.utils.data.DataLoader(test_data,shuffle=True,batch_size=batch_size)\n",
    "\n",
    "class ImageClassifier(nn.Module):\n",
    "    def __init__(self):\n",
    "        super(ImageClassifier,self).__init__()\n",
    "        self.model = nn.Sequential(\n",
    "                        nn.Conv2d(1,32,(3,3)),\n",
    "                        nn.ReLU(),\n",
    "                        nn.Conv2d(32,64,(3,3)),\n",
    "                        nn.ReLU(),\n",
    "                        nn.Conv2d(64,64,(3,3)),\n",
    "                        nn.ReLU(),\n",
    "                        nn.Flatten(),\n",
    "                        nn.Linear(64*(28-6)*(28-6),10)) #28-6 becoz 3 twice from 2 layers=6\n",
    "    def forward(self, x): \n",
    "        return self.model(x)\n",
    "\n",
    "model = ImageClassifier().to('cpu')\n",
    "\n",
    "#LOSS and optimizer\n",
    "criterion = nn.CrossEntropyLoss()\n",
    "optimizer = torch.optim.Adam(model.parameters(),lr= 0.001)\n",
    "\n",
    "#TAINING FLOW\n",
    "for epoch in range(num_epochs):\n",
    "    for i, (images, labels) in enumerate(train_load):\n",
    "        img = images.reshape(batch_size,1, 28,28).to('cpu')\n",
    "        labels = labels.to('cpu')\n",
    "        \n",
    "        # Forward pass\n",
    "        outputs = model(img)\n",
    "        loss = criterion(outputs, labels)\n",
    "        \n",
    "        # Backward and optimize\n",
    "        optimizer.zero_grad()\n",
    "        loss.backward()\n",
    "        optimizer.step()\n",
    "        \n",
    "        if (i+1) % 100 == 0:\n",
    "            print (f'Epoch [{epoch+1}/{num_epochs}],Loss: {loss.item():.4f}')"
   ]
  },
  {
   "cell_type": "code",
   "execution_count": 14,
   "id": "a96bf8b9-777d-4a5c-a018-1a21b1a5bd5b",
   "metadata": {},
   "outputs": [],
   "source": [
    "# Save the model's state_dict directly\n",
    "torch.save(model.state_dict(), 'model_state.pt')"
   ]
  },
  {
   "cell_type": "code",
   "execution_count": 15,
   "id": "f63d906d-3a8e-4763-8661-047b06d7f84f",
   "metadata": {},
   "outputs": [
    {
     "name": "stderr",
     "output_type": "stream",
     "text": [
      "C:\\Users\\user\\AppData\\Local\\Temp\\ipykernel_1976\\845671044.py:1: FutureWarning: You are using `torch.load` with `weights_only=False` (the current default value), which uses the default pickle module implicitly. It is possible to construct malicious pickle data which will execute arbitrary code during unpickling (See https://github.com/pytorch/pytorch/blob/main/SECURITY.md#untrusted-models for more details). In a future release, the default value for `weights_only` will be flipped to `True`. This limits the functions that could be executed during unpickling. Arbitrary objects will no longer be allowed to be loaded via this mode unless they are explicitly allowlisted by the user via `torch.serialization.add_safe_globals`. We recommend you start setting `weights_only=True` for any use case where you don't have full control of the loaded file. Please open an issue on GitHub for any issues related to this experimental feature.\n",
      "  model.load_state_dict(torch.load('model_state.pt'))\n"
     ]
    },
    {
     "data": {
      "text/plain": [
       "ImageClassifier(\n",
       "  (model): Sequential(\n",
       "    (0): Conv2d(1, 32, kernel_size=(3, 3), stride=(1, 1))\n",
       "    (1): ReLU()\n",
       "    (2): Conv2d(32, 64, kernel_size=(3, 3), stride=(1, 1))\n",
       "    (3): ReLU()\n",
       "    (4): Conv2d(64, 64, kernel_size=(3, 3), stride=(1, 1))\n",
       "    (5): ReLU()\n",
       "    (6): Flatten(start_dim=1, end_dim=-1)\n",
       "    (7): Linear(in_features=30976, out_features=10, bias=True)\n",
       "  )\n",
       ")"
      ]
     },
     "execution_count": 15,
     "metadata": {},
     "output_type": "execute_result"
    }
   ],
   "source": [
    "model.load_state_dict(torch.load('model_state.pt'))\n",
    "model.eval()  # Set the model to evaluation mode (important for inference)"
   ]
  },
  {
   "cell_type": "code",
   "execution_count": 16,
   "id": "93d38593-f62f-4e42-b12a-b00cd9fd571a",
   "metadata": {},
   "outputs": [],
   "source": [
    "# 4. Process and predict on an external \n",
    "from torchvision.transforms import transforms\n",
    "transform = transforms.Compose([\n",
    "    transforms.Grayscale(num_output_channels=1),  # Ensure image is grayscale\n",
    "    transforms.Resize((28, 28)),  # Resize to the expected input size (e.g., 28x28 for MNIST-like models)\n",
    "    transforms.ToTensor(),  # Convert to tensor\n",
    "    transforms.Normalize((0.5,), (0.5,))  # Normalize to the same range as training data (you can modify if needed)\n",
    "])"
   ]
  },
  {
   "cell_type": "code",
   "execution_count": 34,
   "id": "aa430c01-c5e3-4e6d-b51b-ee9b030fca8f",
   "metadata": {},
   "outputs": [],
   "source": [
    "img = Image.open('test_image/img2.jpg') \n",
    "img_tensor = transform(img).unsqueeze(0).to('cpu')"
   ]
  },
  {
   "cell_type": "code",
   "execution_count": 35,
   "id": "86177bc2-dcd8-4710-b8d1-4094e4398af7",
   "metadata": {},
   "outputs": [
    {
     "name": "stdout",
     "output_type": "stream",
     "text": [
      "Predicted Label: 2\n"
     ]
    }
   ],
   "source": [
    "# Make the prediction\n",
    "with torch.no_grad():  # Disable gradient calculation during inference\n",
    "    outputs = model(img_tensor)\n",
    "\n",
    "# Get the predicted class label\n",
    "_, predicted = torch.max(outputs, 1)\n",
    "\n",
    "# Print the prediction\n",
    "print(f\"Predicted Label: {predicted.item()}\")"
   ]
  },
  {
   "cell_type": "code",
   "execution_count": null,
   "id": "ad593e1c-5a00-4fc4-b959-629dd8722919",
   "metadata": {},
   "outputs": [],
   "source": []
  }
 ],
 "metadata": {
  "kernelspec": {
   "display_name": "Python 3 (ipykernel)",
   "language": "python",
   "name": "python3"
  },
  "language_info": {
   "codemirror_mode": {
    "name": "ipython",
    "version": 3
   },
   "file_extension": ".py",
   "mimetype": "text/x-python",
   "name": "python",
   "nbconvert_exporter": "python",
   "pygments_lexer": "ipython3",
   "version": "3.9.21"
  },
  "widgets": {
   "application/vnd.jupyter.widget-state+json": {
    "state": {},
    "version_major": 2,
    "version_minor": 0
   }
  }
 },
 "nbformat": 4,
 "nbformat_minor": 5
}
